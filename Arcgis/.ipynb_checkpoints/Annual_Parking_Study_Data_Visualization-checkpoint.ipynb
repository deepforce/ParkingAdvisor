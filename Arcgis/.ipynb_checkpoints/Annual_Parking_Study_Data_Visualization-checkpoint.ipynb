{
 "cells": [
  {
   "cell_type": "code",
   "execution_count": 1,
   "metadata": {},
   "outputs": [],
   "source": [
    "import arcgis\n",
    "import getpass\n",
    "import pandas as pd\n",
    "from arcgis.gis import GIS"
   ]
  },
  {
   "cell_type": "code",
   "execution_count": 2,
   "metadata": {},
   "outputs": [
    {
     "name": "stdout",
     "output_type": "stream",
     "text": [
      "Enter your password: ········\n"
     ]
    }
   ],
   "source": [
    "password = getpass.getpass(\"Enter your password: \")"
   ]
  },
  {
   "cell_type": "code",
   "execution_count": 3,
   "metadata": {},
   "outputs": [],
   "source": [
    "gis = GIS(\"https://www.arcgis.com\", \"haowanyu\", password)"
   ]
  },
  {
   "cell_type": "markdown",
   "metadata": {},
   "source": [
    "## Import Data From Annual_Parking_Study_Data.csv"
   ]
  },
  {
   "cell_type": "code",
   "execution_count": 4,
   "metadata": {},
   "outputs": [
    {
     "name": "stderr",
     "output_type": "stream",
     "text": [
      "E:\\Anaconda\\lib\\site-packages\\IPython\\core\\interactiveshell.py:2785: DtypeWarning: Columns (20) have mixed types. Specify dtype option on import or set low_memory=False.\n",
      "  interactivity=interactivity, compiler=compiler, result=result)\n"
     ]
    }
   ],
   "source": [
    "APSD = pd.read_csv(\"../Datasets/Annual_Parking_Study_Data.csv\")"
   ]
  },
  {
   "cell_type": "code",
   "execution_count": 5,
   "metadata": {},
   "outputs": [
    {
     "name": "stdout",
     "output_type": "stream",
     "text": [
      "<class 'pandas.core.frame.DataFrame'>\n",
      "RangeIndex: 145355 entries, 0 to 145354\n",
      "Data columns (total 22 columns):\n",
      "Elmntkey                  145277 non-null float64\n",
      "Study_Area                145329 non-null object\n",
      "Sub_Area                  132175 non-null object\n",
      "Date Time                 145355 non-null object\n",
      "Side                      145316 non-null object\n",
      "Unitdesc                  145329 non-null object\n",
      "Peak Hour_SDOT            15222 non-null object\n",
      "Parking_Spaces            145057 non-null float64\n",
      "Total_Vehicle_Count       144870 non-null float64\n",
      "Dp_Count                  116353 non-null float64\n",
      "Rpz_Count                 33500 non-null float64\n",
      "TG_Car2Go                 34179 non-null float64\n",
      "BMW_DN                    13139 non-null float64\n",
      "Field Notes               15704 non-null object\n",
      "Construction              145342 non-null object\n",
      "Event Closure             145342 non-null object\n",
      "Subarea Label             145355 non-null object\n",
      "Study Year                145329 non-null float64\n",
      "Peak Hour? (Yes or No)    145355 non-null object\n",
      "RPZ Blocks                89696 non-null float64\n",
      "CSM                       89904 non-null object\n",
      "Time Stamp                8 non-null float64\n",
      "dtypes: float64(10), object(12)\n",
      "memory usage: 24.4+ MB\n"
     ]
    }
   ],
   "source": [
    "APSD.info()"
   ]
  },
  {
   "cell_type": "code",
   "execution_count": 6,
   "metadata": {},
   "outputs": [
    {
     "data": {
      "text/html": [
       "<div>\n",
       "<style scoped>\n",
       "    .dataframe tbody tr th:only-of-type {\n",
       "        vertical-align: middle;\n",
       "    }\n",
       "\n",
       "    .dataframe tbody tr th {\n",
       "        vertical-align: top;\n",
       "    }\n",
       "\n",
       "    .dataframe thead th {\n",
       "        text-align: right;\n",
       "    }\n",
       "</style>\n",
       "<table border=\"1\" class=\"dataframe\">\n",
       "  <thead>\n",
       "    <tr style=\"text-align: right;\">\n",
       "      <th></th>\n",
       "      <th>Elmntkey</th>\n",
       "      <th>Study_Area</th>\n",
       "      <th>Sub_Area</th>\n",
       "      <th>Date Time</th>\n",
       "      <th>Side</th>\n",
       "      <th>Unitdesc</th>\n",
       "      <th>Peak Hour_SDOT</th>\n",
       "      <th>Parking_Spaces</th>\n",
       "      <th>Total_Vehicle_Count</th>\n",
       "      <th>Dp_Count</th>\n",
       "      <th>...</th>\n",
       "      <th>BMW_DN</th>\n",
       "      <th>Field Notes</th>\n",
       "      <th>Construction</th>\n",
       "      <th>Event Closure</th>\n",
       "      <th>Subarea Label</th>\n",
       "      <th>Study Year</th>\n",
       "      <th>Peak Hour? (Yes or No)</th>\n",
       "      <th>RPZ Blocks</th>\n",
       "      <th>CSM</th>\n",
       "      <th>Time Stamp</th>\n",
       "    </tr>\n",
       "  </thead>\n",
       "  <tbody>\n",
       "    <tr>\n",
       "      <th>0</th>\n",
       "      <td>1577.0</td>\n",
       "      <td>12th Ave - Weekday</td>\n",
       "      <td>NaN</td>\n",
       "      <td>4-08-14 14:00:00</td>\n",
       "      <td>W</td>\n",
       "      <td>12TH AVE BETWEEN E COLUMBIA ST AND E MARION ST</td>\n",
       "      <td>NaN</td>\n",
       "      <td>8.0</td>\n",
       "      <td>9.0</td>\n",
       "      <td>7.0</td>\n",
       "      <td>...</td>\n",
       "      <td>NaN</td>\n",
       "      <td>NaN</td>\n",
       "      <td>No</td>\n",
       "      <td>No</td>\n",
       "      <td>12th Ave - Weekday</td>\n",
       "      <td>2014.0</td>\n",
       "      <td>No</td>\n",
       "      <td>NaN</td>\n",
       "      <td>NaN</td>\n",
       "      <td>NaN</td>\n",
       "    </tr>\n",
       "    <tr>\n",
       "      <th>1</th>\n",
       "      <td>1577.0</td>\n",
       "      <td>12th Ave - Weekday</td>\n",
       "      <td>NaN</td>\n",
       "      <td>4-08-14 15:00:00</td>\n",
       "      <td>W</td>\n",
       "      <td>12TH AVE BETWEEN E COLUMBIA ST AND E MARION ST</td>\n",
       "      <td>NaN</td>\n",
       "      <td>8.0</td>\n",
       "      <td>8.0</td>\n",
       "      <td>5.0</td>\n",
       "      <td>...</td>\n",
       "      <td>NaN</td>\n",
       "      <td>NaN</td>\n",
       "      <td>No</td>\n",
       "      <td>No</td>\n",
       "      <td>12th Ave - Weekday</td>\n",
       "      <td>2014.0</td>\n",
       "      <td>No</td>\n",
       "      <td>NaN</td>\n",
       "      <td>NaN</td>\n",
       "      <td>NaN</td>\n",
       "    </tr>\n",
       "    <tr>\n",
       "      <th>2</th>\n",
       "      <td>1577.0</td>\n",
       "      <td>12th Ave - Weekday</td>\n",
       "      <td>NaN</td>\n",
       "      <td>4-08-14 13:00:00</td>\n",
       "      <td>W</td>\n",
       "      <td>12TH AVE BETWEEN E COLUMBIA ST AND E MARION ST</td>\n",
       "      <td>NaN</td>\n",
       "      <td>8.0</td>\n",
       "      <td>6.0</td>\n",
       "      <td>4.0</td>\n",
       "      <td>...</td>\n",
       "      <td>NaN</td>\n",
       "      <td>NaN</td>\n",
       "      <td>No</td>\n",
       "      <td>No</td>\n",
       "      <td>12th Ave - Weekday</td>\n",
       "      <td>2014.0</td>\n",
       "      <td>No</td>\n",
       "      <td>NaN</td>\n",
       "      <td>NaN</td>\n",
       "      <td>NaN</td>\n",
       "    </tr>\n",
       "    <tr>\n",
       "      <th>3</th>\n",
       "      <td>1577.0</td>\n",
       "      <td>12th Ave - Weekday</td>\n",
       "      <td>NaN</td>\n",
       "      <td>4-08-14 09:00:00</td>\n",
       "      <td>W</td>\n",
       "      <td>12TH AVE BETWEEN E COLUMBIA ST AND E MARION ST</td>\n",
       "      <td>NaN</td>\n",
       "      <td>8.0</td>\n",
       "      <td>6.0</td>\n",
       "      <td>3.0</td>\n",
       "      <td>...</td>\n",
       "      <td>NaN</td>\n",
       "      <td>NaN</td>\n",
       "      <td>No</td>\n",
       "      <td>No</td>\n",
       "      <td>12th Ave - Weekday</td>\n",
       "      <td>2014.0</td>\n",
       "      <td>No</td>\n",
       "      <td>NaN</td>\n",
       "      <td>NaN</td>\n",
       "      <td>NaN</td>\n",
       "    </tr>\n",
       "    <tr>\n",
       "      <th>4</th>\n",
       "      <td>1577.0</td>\n",
       "      <td>12th Ave - Weekday</td>\n",
       "      <td>NaN</td>\n",
       "      <td>4-08-14 12:00:00</td>\n",
       "      <td>W</td>\n",
       "      <td>12TH AVE BETWEEN E COLUMBIA ST AND E MARION ST</td>\n",
       "      <td>NaN</td>\n",
       "      <td>8.0</td>\n",
       "      <td>6.0</td>\n",
       "      <td>3.0</td>\n",
       "      <td>...</td>\n",
       "      <td>NaN</td>\n",
       "      <td>NaN</td>\n",
       "      <td>No</td>\n",
       "      <td>No</td>\n",
       "      <td>12th Ave - Weekday</td>\n",
       "      <td>2014.0</td>\n",
       "      <td>No</td>\n",
       "      <td>NaN</td>\n",
       "      <td>NaN</td>\n",
       "      <td>NaN</td>\n",
       "    </tr>\n",
       "  </tbody>\n",
       "</table>\n",
       "<p>5 rows × 22 columns</p>\n",
       "</div>"
      ],
      "text/plain": [
       "   Elmntkey          Study_Area Sub_Area         Date Time Side  \\\n",
       "0    1577.0  12th Ave - Weekday      NaN  4-08-14 14:00:00    W   \n",
       "1    1577.0  12th Ave - Weekday      NaN  4-08-14 15:00:00    W   \n",
       "2    1577.0  12th Ave - Weekday      NaN  4-08-14 13:00:00    W   \n",
       "3    1577.0  12th Ave - Weekday      NaN  4-08-14 09:00:00    W   \n",
       "4    1577.0  12th Ave - Weekday      NaN  4-08-14 12:00:00    W   \n",
       "\n",
       "                                         Unitdesc Peak Hour_SDOT  \\\n",
       "0  12TH AVE BETWEEN E COLUMBIA ST AND E MARION ST            NaN   \n",
       "1  12TH AVE BETWEEN E COLUMBIA ST AND E MARION ST            NaN   \n",
       "2  12TH AVE BETWEEN E COLUMBIA ST AND E MARION ST            NaN   \n",
       "3  12TH AVE BETWEEN E COLUMBIA ST AND E MARION ST            NaN   \n",
       "4  12TH AVE BETWEEN E COLUMBIA ST AND E MARION ST            NaN   \n",
       "\n",
       "   Parking_Spaces  Total_Vehicle_Count  Dp_Count     ...      BMW_DN  \\\n",
       "0             8.0                  9.0       7.0     ...         NaN   \n",
       "1             8.0                  8.0       5.0     ...         NaN   \n",
       "2             8.0                  6.0       4.0     ...         NaN   \n",
       "3             8.0                  6.0       3.0     ...         NaN   \n",
       "4             8.0                  6.0       3.0     ...         NaN   \n",
       "\n",
       "   Field Notes  Construction Event Closure       Subarea Label Study Year  \\\n",
       "0          NaN            No            No  12th Ave - Weekday     2014.0   \n",
       "1          NaN            No            No  12th Ave - Weekday     2014.0   \n",
       "2          NaN            No            No  12th Ave - Weekday     2014.0   \n",
       "3          NaN            No            No  12th Ave - Weekday     2014.0   \n",
       "4          NaN            No            No  12th Ave - Weekday     2014.0   \n",
       "\n",
       "  Peak Hour? (Yes or No)  RPZ Blocks  CSM  Time Stamp  \n",
       "0                     No         NaN  NaN         NaN  \n",
       "1                     No         NaN  NaN         NaN  \n",
       "2                     No         NaN  NaN         NaN  \n",
       "3                     No         NaN  NaN         NaN  \n",
       "4                     No         NaN  NaN         NaN  \n",
       "\n",
       "[5 rows x 22 columns]"
      ]
     },
     "execution_count": 6,
     "metadata": {},
     "output_type": "execute_result"
    }
   ],
   "source": [
    "APSD.head()"
   ]
  },
  {
   "cell_type": "markdown",
   "metadata": {},
   "source": [
    "##### Select the 'Elmnkey' Column"
   ]
  },
  {
   "cell_type": "code",
   "execution_count": 7,
   "metadata": {},
   "outputs": [],
   "source": [
    "Elmntkey = APSD[['Elmntkey']].drop_duplicates()"
   ]
  },
  {
   "cell_type": "code",
   "execution_count": 8,
   "metadata": {},
   "outputs": [
    {
     "data": {
      "text/html": [
       "<div>\n",
       "<style scoped>\n",
       "    .dataframe tbody tr th:only-of-type {\n",
       "        vertical-align: middle;\n",
       "    }\n",
       "\n",
       "    .dataframe tbody tr th {\n",
       "        vertical-align: top;\n",
       "    }\n",
       "\n",
       "    .dataframe thead th {\n",
       "        text-align: right;\n",
       "    }\n",
       "</style>\n",
       "<table border=\"1\" class=\"dataframe\">\n",
       "  <thead>\n",
       "    <tr style=\"text-align: right;\">\n",
       "      <th></th>\n",
       "      <th>Elmntkey</th>\n",
       "    </tr>\n",
       "  </thead>\n",
       "  <tbody>\n",
       "    <tr>\n",
       "      <th>0</th>\n",
       "      <td>1577.0</td>\n",
       "    </tr>\n",
       "    <tr>\n",
       "      <th>6</th>\n",
       "      <td>24553.0</td>\n",
       "    </tr>\n",
       "    <tr>\n",
       "      <th>7</th>\n",
       "      <td>24554.0</td>\n",
       "    </tr>\n",
       "    <tr>\n",
       "      <th>9</th>\n",
       "      <td>24557.0</td>\n",
       "    </tr>\n",
       "    <tr>\n",
       "      <th>13</th>\n",
       "      <td>1578.0</td>\n",
       "    </tr>\n",
       "  </tbody>\n",
       "</table>\n",
       "</div>"
      ],
      "text/plain": [
       "    Elmntkey\n",
       "0     1577.0\n",
       "6    24553.0\n",
       "7    24554.0\n",
       "9    24557.0\n",
       "13    1578.0"
      ]
     },
     "execution_count": 8,
     "metadata": {},
     "output_type": "execute_result"
    }
   ],
   "source": [
    "Elmntkey.head()"
   ]
  },
  {
   "cell_type": "code",
   "execution_count": 9,
   "metadata": {},
   "outputs": [],
   "source": [
    "Elmntkey.columns = ['ELMNTKEY']"
   ]
  },
  {
   "cell_type": "code",
   "execution_count": 10,
   "metadata": {},
   "outputs": [
    {
     "name": "stdout",
     "output_type": "stream",
     "text": [
      "<class 'pandas.core.frame.DataFrame'>\n",
      "Int64Index: 2232 entries, 0 to 145340\n",
      "Data columns (total 1 columns):\n",
      "ELMNTKEY    2231 non-null float64\n",
      "dtypes: float64(1)\n",
      "memory usage: 34.9 KB\n"
     ]
    }
   ],
   "source": [
    "Elmntkey.info()"
   ]
  },
  {
   "cell_type": "markdown",
   "metadata": {},
   "source": [
    "## Import Data From Blockface.csv"
   ]
  },
  {
   "cell_type": "code",
   "execution_count": 11,
   "metadata": {},
   "outputs": [
    {
     "name": "stderr",
     "output_type": "stream",
     "text": [
      "E:\\Anaconda\\lib\\site-packages\\IPython\\core\\interactiveshell.py:2785: DtypeWarning: Columns (34,36,37,38,39,40) have mixed types. Specify dtype option on import or set low_memory=False.\n",
      "  interactivity=interactivity, compiler=compiler, result=result)\n"
     ]
    }
   ],
   "source": [
    "Blockface = pd.read_csv(\"../Datasets/Blockface.csv\")"
   ]
  },
  {
   "cell_type": "code",
   "execution_count": 12,
   "metadata": {},
   "outputs": [
    {
     "data": {
      "text/html": [
       "<div>\n",
       "<style scoped>\n",
       "    .dataframe tbody tr th:only-of-type {\n",
       "        vertical-align: middle;\n",
       "    }\n",
       "\n",
       "    .dataframe tbody tr th {\n",
       "        vertical-align: top;\n",
       "    }\n",
       "\n",
       "    .dataframe thead th {\n",
       "        text-align: right;\n",
       "    }\n",
       "</style>\n",
       "<table border=\"1\" class=\"dataframe\">\n",
       "  <thead>\n",
       "    <tr style=\"text-align: right;\">\n",
       "      <th></th>\n",
       "      <th>OBJECTID</th>\n",
       "      <th>ELMNTKEY</th>\n",
       "      <th>SEGKEY</th>\n",
       "      <th>UNITID</th>\n",
       "      <th>UNITID2</th>\n",
       "      <th>UNITDESC</th>\n",
       "      <th>SIDE</th>\n",
       "      <th>BLOCK_ID</th>\n",
       "      <th>BLOCK_NBR</th>\n",
       "      <th>CSM</th>\n",
       "      <th>...</th>\n",
       "      <th>SUBAREA</th>\n",
       "      <th>START_TIME_WKD</th>\n",
       "      <th>END_TIME_WKD</th>\n",
       "      <th>START_TIME_SAT</th>\n",
       "      <th>END_TIME_SAT</th>\n",
       "      <th>PRIMARYDISTRICTCD</th>\n",
       "      <th>SECONDARYDISTRICTCD</th>\n",
       "      <th>OVERRIDEYN</th>\n",
       "      <th>OVERRIDECOMMENT</th>\n",
       "      <th>SHAPE_Length</th>\n",
       "    </tr>\n",
       "  </thead>\n",
       "  <tbody>\n",
       "    <tr>\n",
       "      <th>0</th>\n",
       "      <td>1</td>\n",
       "      <td>42410</td>\n",
       "      <td>19829</td>\n",
       "      <td>15755</td>\n",
       "      <td>70</td>\n",
       "      <td>S DEARBORN ST BETWEEN 7TH AVE S AND 8TH AVE S</td>\n",
       "      <td>S</td>\n",
       "      <td>NaN</td>\n",
       "      <td>700</td>\n",
       "      <td>Y</td>\n",
       "      <td>...</td>\n",
       "      <td>Edge</td>\n",
       "      <td>08AM</td>\n",
       "      <td>08PM</td>\n",
       "      <td>08AM</td>\n",
       "      <td>08PM</td>\n",
       "      <td>DISTRICT2</td>\n",
       "      <td></td>\n",
       "      <td>N</td>\n",
       "      <td>NaN</td>\n",
       "      <td>275.130989</td>\n",
       "    </tr>\n",
       "    <tr>\n",
       "      <th>1</th>\n",
       "      <td>2</td>\n",
       "      <td>2794</td>\n",
       "      <td>2773</td>\n",
       "      <td>960</td>\n",
       "      <td>20</td>\n",
       "      <td>2ND AVE N BETWEEN JOHN ST AND THOMAS ST</td>\n",
       "      <td>E</td>\n",
       "      <td>N02-02</td>\n",
       "      <td>200</td>\n",
       "      <td>Y</td>\n",
       "      <td>...</td>\n",
       "      <td>Edge</td>\n",
       "      <td>08AM</td>\n",
       "      <td>08PM</td>\n",
       "      <td>08AM</td>\n",
       "      <td>08PM</td>\n",
       "      <td>DISTRICT7</td>\n",
       "      <td></td>\n",
       "      <td>N</td>\n",
       "      <td>NaN</td>\n",
       "      <td>424.952259</td>\n",
       "    </tr>\n",
       "    <tr>\n",
       "      <th>2</th>\n",
       "      <td>3</td>\n",
       "      <td>85957</td>\n",
       "      <td>17987</td>\n",
       "      <td>13872</td>\n",
       "      <td>120</td>\n",
       "      <td>NE CAMPUS EB PY BETWEEN 12TH AVE NE AND BROOKL...</td>\n",
       "      <td>N</td>\n",
       "      <td>NECP-12</td>\n",
       "      <td>1200</td>\n",
       "      <td>Y</td>\n",
       "      <td>...</td>\n",
       "      <td>Core</td>\n",
       "      <td>08AM</td>\n",
       "      <td>08PM</td>\n",
       "      <td>08AM</td>\n",
       "      <td>08PM</td>\n",
       "      <td>DISTRICT4</td>\n",
       "      <td></td>\n",
       "      <td>N</td>\n",
       "      <td>NaN</td>\n",
       "      <td>245.027944</td>\n",
       "    </tr>\n",
       "    <tr>\n",
       "      <th>3</th>\n",
       "      <td>4</td>\n",
       "      <td>52513</td>\n",
       "      <td>7237</td>\n",
       "      <td>3885</td>\n",
       "      <td>150</td>\n",
       "      <td>5TH AVE BETWEEN PIKE ST AND PINE ST</td>\n",
       "      <td>SW</td>\n",
       "      <td>05-15</td>\n",
       "      <td>1500</td>\n",
       "      <td>Y</td>\n",
       "      <td>...</td>\n",
       "      <td>Retail</td>\n",
       "      <td>08AM</td>\n",
       "      <td>08PM</td>\n",
       "      <td>08AM</td>\n",
       "      <td>08PM</td>\n",
       "      <td>DISTRICT7</td>\n",
       "      <td></td>\n",
       "      <td>N</td>\n",
       "      <td>NaN</td>\n",
       "      <td>400.491866</td>\n",
       "    </tr>\n",
       "    <tr>\n",
       "      <th>4</th>\n",
       "      <td>5</td>\n",
       "      <td>12034</td>\n",
       "      <td>12025</td>\n",
       "      <td>8920</td>\n",
       "      <td>80</td>\n",
       "      <td>OCCIDENTAL AVE S BETWEEN RAILROAD WAY S AND S ...</td>\n",
       "      <td>E</td>\n",
       "      <td>SOO-09</td>\n",
       "      <td>800</td>\n",
       "      <td>Y</td>\n",
       "      <td>...</td>\n",
       "      <td>Edge</td>\n",
       "      <td>08AM</td>\n",
       "      <td>06PM</td>\n",
       "      <td>08AM</td>\n",
       "      <td>06PM</td>\n",
       "      <td>DISTRICT2</td>\n",
       "      <td></td>\n",
       "      <td>N</td>\n",
       "      <td>NaN</td>\n",
       "      <td>1013.058630</td>\n",
       "    </tr>\n",
       "  </tbody>\n",
       "</table>\n",
       "<p>5 rows × 46 columns</p>\n",
       "</div>"
      ],
      "text/plain": [
       "   OBJECTID  ELMNTKEY  SEGKEY  UNITID  UNITID2  \\\n",
       "0         1     42410   19829   15755       70   \n",
       "1         2      2794    2773     960       20   \n",
       "2         3     85957   17987   13872      120   \n",
       "3         4     52513    7237    3885      150   \n",
       "4         5     12034   12025    8920       80   \n",
       "\n",
       "                                            UNITDESC SIDE BLOCK_ID  BLOCK_NBR  \\\n",
       "0      S DEARBORN ST BETWEEN 7TH AVE S AND 8TH AVE S    S      NaN        700   \n",
       "1            2ND AVE N BETWEEN JOHN ST AND THOMAS ST    E   N02-02        200   \n",
       "2  NE CAMPUS EB PY BETWEEN 12TH AVE NE AND BROOKL...    N  NECP-12       1200   \n",
       "3                5TH AVE BETWEEN PIKE ST AND PINE ST   SW    05-15       1500   \n",
       "4  OCCIDENTAL AVE S BETWEEN RAILROAD WAY S AND S ...    E   SOO-09        800   \n",
       "\n",
       "  CSM      ...      SUBAREA  START_TIME_WKD  END_TIME_WKD  START_TIME_SAT  \\\n",
       "0   Y      ...         Edge            08AM          08PM            08AM   \n",
       "1   Y      ...         Edge            08AM          08PM            08AM   \n",
       "2   Y      ...         Core            08AM          08PM            08AM   \n",
       "3   Y      ...       Retail            08AM          08PM            08AM   \n",
       "4   Y      ...         Edge            08AM          06PM            08AM   \n",
       "\n",
       "   END_TIME_SAT  PRIMARYDISTRICTCD  SECONDARYDISTRICTCD  OVERRIDEYN  \\\n",
       "0          08PM          DISTRICT2                                N   \n",
       "1          08PM          DISTRICT7                                N   \n",
       "2          08PM          DISTRICT4                                N   \n",
       "3          08PM          DISTRICT7                                N   \n",
       "4          06PM          DISTRICT2                                N   \n",
       "\n",
       "   OVERRIDECOMMENT  SHAPE_Length  \n",
       "0              NaN    275.130989  \n",
       "1              NaN    424.952259  \n",
       "2              NaN    245.027944  \n",
       "3              NaN    400.491866  \n",
       "4              NaN   1013.058630  \n",
       "\n",
       "[5 rows x 46 columns]"
      ]
     },
     "execution_count": 12,
     "metadata": {},
     "output_type": "execute_result"
    }
   ],
   "source": [
    "Blockface.head()"
   ]
  },
  {
   "cell_type": "code",
   "execution_count": 13,
   "metadata": {},
   "outputs": [
    {
     "name": "stdout",
     "output_type": "stream",
     "text": [
      "<class 'pandas.core.frame.DataFrame'>\n",
      "RangeIndex: 47679 entries, 0 to 47678\n",
      "Data columns (total 46 columns):\n",
      "OBJECTID               47679 non-null int64\n",
      "ELMNTKEY               47679 non-null int64\n",
      "SEGKEY                 47679 non-null int64\n",
      "UNITID                 47679 non-null int64\n",
      "UNITID2                47679 non-null int64\n",
      "UNITDESC               47679 non-null object\n",
      "SIDE                   47679 non-null object\n",
      "BLOCK_ID               2383 non-null object\n",
      "BLOCK_NBR              47679 non-null int64\n",
      "CSM                    47679 non-null object\n",
      "PARKING_CATEGORY       47679 non-null object\n",
      "LOAD                   47679 non-null int64\n",
      "ZONE                   47679 non-null int64\n",
      "TOTAL_ZONES            47679 non-null int64\n",
      "WKD_RATE1              47679 non-null float64\n",
      "WKD_START1             47679 non-null int64\n",
      "WKD_END1               47679 non-null int64\n",
      "WKD_RATE2              47679 non-null float64\n",
      "WKD_START2             47679 non-null int64\n",
      "WKD_END2               47679 non-null int64\n",
      "WKD_RATE3              46881 non-null float64\n",
      "WKD_START3             46881 non-null float64\n",
      "WKD_END3               46881 non-null float64\n",
      "SAT_RATE1              47655 non-null float64\n",
      "SAT_START1             47655 non-null float64\n",
      "SAT_END1               47655 non-null float64\n",
      "SAT_RATE2              47655 non-null float64\n",
      "SAT_START2             47655 non-null float64\n",
      "SAT_END2               47655 non-null float64\n",
      "SAT_RATE3              46881 non-null float64\n",
      "SAT_START3             46881 non-null float64\n",
      "SAT_END3               46881 non-null float64\n",
      "RPZ_ZONE               3782 non-null object\n",
      "RPZ_AREA               1436 non-null float64\n",
      "PAIDAREA               2643 non-null object\n",
      "PARKING_TIME_LIMIT     4883 non-null float64\n",
      "SUBAREA                2033 non-null object\n",
      "START_TIME_WKD         2643 non-null object\n",
      "END_TIME_WKD           2643 non-null object\n",
      "START_TIME_SAT         2619 non-null object\n",
      "END_TIME_SAT           2619 non-null object\n",
      "PRIMARYDISTRICTCD      47679 non-null object\n",
      "SECONDARYDISTRICTCD    47679 non-null object\n",
      "OVERRIDEYN             47679 non-null object\n",
      "OVERRIDECOMMENT        0 non-null float64\n",
      "SHAPE_Length           47679 non-null float64\n",
      "dtypes: float64(18), int64(13), object(15)\n",
      "memory usage: 16.7+ MB\n"
     ]
    }
   ],
   "source": [
    "Blockface.info()"
   ]
  },
  {
   "cell_type": "code",
   "execution_count": 14,
   "metadata": {},
   "outputs": [],
   "source": [
    "Blockface_slice = Blockface[['ELMNTKEY','SEGKEY']]"
   ]
  },
  {
   "cell_type": "code",
   "execution_count": 15,
   "metadata": {},
   "outputs": [
    {
     "data": {
      "text/html": [
       "<div>\n",
       "<style scoped>\n",
       "    .dataframe tbody tr th:only-of-type {\n",
       "        vertical-align: middle;\n",
       "    }\n",
       "\n",
       "    .dataframe tbody tr th {\n",
       "        vertical-align: top;\n",
       "    }\n",
       "\n",
       "    .dataframe thead th {\n",
       "        text-align: right;\n",
       "    }\n",
       "</style>\n",
       "<table border=\"1\" class=\"dataframe\">\n",
       "  <thead>\n",
       "    <tr style=\"text-align: right;\">\n",
       "      <th></th>\n",
       "      <th>ELMNTKEY</th>\n",
       "      <th>SEGKEY</th>\n",
       "    </tr>\n",
       "  </thead>\n",
       "  <tbody>\n",
       "    <tr>\n",
       "      <th>0</th>\n",
       "      <td>42410</td>\n",
       "      <td>19829</td>\n",
       "    </tr>\n",
       "    <tr>\n",
       "      <th>1</th>\n",
       "      <td>2794</td>\n",
       "      <td>2773</td>\n",
       "    </tr>\n",
       "    <tr>\n",
       "      <th>2</th>\n",
       "      <td>85957</td>\n",
       "      <td>17987</td>\n",
       "    </tr>\n",
       "    <tr>\n",
       "      <th>3</th>\n",
       "      <td>52513</td>\n",
       "      <td>7237</td>\n",
       "    </tr>\n",
       "    <tr>\n",
       "      <th>4</th>\n",
       "      <td>12034</td>\n",
       "      <td>12025</td>\n",
       "    </tr>\n",
       "  </tbody>\n",
       "</table>\n",
       "</div>"
      ],
      "text/plain": [
       "   ELMNTKEY  SEGKEY\n",
       "0     42410   19829\n",
       "1      2794    2773\n",
       "2     85957   17987\n",
       "3     52513    7237\n",
       "4     12034   12025"
      ]
     },
     "execution_count": 15,
     "metadata": {},
     "output_type": "execute_result"
    }
   ],
   "source": [
    "Blockface_slice.head()"
   ]
  },
  {
   "cell_type": "code",
   "execution_count": 16,
   "metadata": {},
   "outputs": [
    {
     "name": "stdout",
     "output_type": "stream",
     "text": [
      "<class 'pandas.core.frame.DataFrame'>\n",
      "RangeIndex: 47679 entries, 0 to 47678\n",
      "Data columns (total 46 columns):\n",
      "OBJECTID               47679 non-null int64\n",
      "ELMNTKEY               47679 non-null int64\n",
      "SEGKEY                 47679 non-null int64\n",
      "UNITID                 47679 non-null int64\n",
      "UNITID2                47679 non-null int64\n",
      "UNITDESC               47679 non-null object\n",
      "SIDE                   47679 non-null object\n",
      "BLOCK_ID               2383 non-null object\n",
      "BLOCK_NBR              47679 non-null int64\n",
      "CSM                    47679 non-null object\n",
      "PARKING_CATEGORY       47679 non-null object\n",
      "LOAD                   47679 non-null int64\n",
      "ZONE                   47679 non-null int64\n",
      "TOTAL_ZONES            47679 non-null int64\n",
      "WKD_RATE1              47679 non-null float64\n",
      "WKD_START1             47679 non-null int64\n",
      "WKD_END1               47679 non-null int64\n",
      "WKD_RATE2              47679 non-null float64\n",
      "WKD_START2             47679 non-null int64\n",
      "WKD_END2               47679 non-null int64\n",
      "WKD_RATE3              46881 non-null float64\n",
      "WKD_START3             46881 non-null float64\n",
      "WKD_END3               46881 non-null float64\n",
      "SAT_RATE1              47655 non-null float64\n",
      "SAT_START1             47655 non-null float64\n",
      "SAT_END1               47655 non-null float64\n",
      "SAT_RATE2              47655 non-null float64\n",
      "SAT_START2             47655 non-null float64\n",
      "SAT_END2               47655 non-null float64\n",
      "SAT_RATE3              46881 non-null float64\n",
      "SAT_START3             46881 non-null float64\n",
      "SAT_END3               46881 non-null float64\n",
      "RPZ_ZONE               3782 non-null object\n",
      "RPZ_AREA               1436 non-null float64\n",
      "PAIDAREA               2643 non-null object\n",
      "PARKING_TIME_LIMIT     4883 non-null float64\n",
      "SUBAREA                2033 non-null object\n",
      "START_TIME_WKD         2643 non-null object\n",
      "END_TIME_WKD           2643 non-null object\n",
      "START_TIME_SAT         2619 non-null object\n",
      "END_TIME_SAT           2619 non-null object\n",
      "PRIMARYDISTRICTCD      47679 non-null object\n",
      "SECONDARYDISTRICTCD    47679 non-null object\n",
      "OVERRIDEYN             47679 non-null object\n",
      "OVERRIDECOMMENT        0 non-null float64\n",
      "SHAPE_Length           47679 non-null float64\n",
      "dtypes: float64(18), int64(13), object(15)\n",
      "memory usage: 16.7+ MB\n"
     ]
    }
   ],
   "source": [
    "Blockface.info()"
   ]
  },
  {
   "cell_type": "code",
   "execution_count": 17,
   "metadata": {},
   "outputs": [
    {
     "name": "stderr",
     "output_type": "stream",
     "text": [
      "E:\\Anaconda\\lib\\site-packages\\ipykernel_launcher.py:1: SettingWithCopyWarning: \n",
      "A value is trying to be set on a copy of a slice from a DataFrame.\n",
      "Try using .loc[row_indexer,col_indexer] = value instead\n",
      "\n",
      "See the caveats in the documentation: http://pandas.pydata.org/pandas-docs/stable/indexing.html#indexing-view-versus-copy\n",
      "  \"\"\"Entry point for launching an IPython kernel.\n"
     ]
    }
   ],
   "source": [
    "Blockface_slice['ELMNTKEY'] = Blockface_slice['ELMNTKEY'].astype('float64')"
   ]
  },
  {
   "cell_type": "code",
   "execution_count": 18,
   "metadata": {},
   "outputs": [
    {
     "data": {
      "text/plain": [
       "ELMNTKEY    float64\n",
       "SEGKEY        int64\n",
       "dtype: object"
      ]
     },
     "execution_count": 18,
     "metadata": {},
     "output_type": "execute_result"
    }
   ],
   "source": [
    "Blockface_slice.dtypes"
   ]
  },
  {
   "cell_type": "markdown",
   "metadata": {},
   "source": [
    "### Select the rows that the 'ELMNTKEY' value is in Elmnkey"
   ]
  },
  {
   "cell_type": "code",
   "execution_count": 19,
   "metadata": {},
   "outputs": [],
   "source": [
    "# ba_inner = pd.merge(Elmntkey, Blockface_slice, how='inner', on=['ELMNTKEY'])\n",
    "ba_inner = Blockface_slice.loc[Blockface_slice['ELMNTKEY'].isin(Elmntkey['ELMNTKEY'])]"
   ]
  },
  {
   "cell_type": "code",
   "execution_count": 20,
   "metadata": {},
   "outputs": [
    {
     "data": {
      "text/html": [
       "<div>\n",
       "<style scoped>\n",
       "    .dataframe tbody tr th:only-of-type {\n",
       "        vertical-align: middle;\n",
       "    }\n",
       "\n",
       "    .dataframe tbody tr th {\n",
       "        vertical-align: top;\n",
       "    }\n",
       "\n",
       "    .dataframe thead th {\n",
       "        text-align: right;\n",
       "    }\n",
       "</style>\n",
       "<table border=\"1\" class=\"dataframe\">\n",
       "  <thead>\n",
       "    <tr style=\"text-align: right;\">\n",
       "      <th></th>\n",
       "      <th>ELMNTKEY</th>\n",
       "      <th>SEGKEY</th>\n",
       "    </tr>\n",
       "  </thead>\n",
       "  <tbody>\n",
       "    <tr>\n",
       "      <th>1</th>\n",
       "      <td>2794.0</td>\n",
       "      <td>2773</td>\n",
       "    </tr>\n",
       "    <tr>\n",
       "      <th>4</th>\n",
       "      <td>12034.0</td>\n",
       "      <td>12025</td>\n",
       "    </tr>\n",
       "    <tr>\n",
       "      <th>5</th>\n",
       "      <td>80890.0</td>\n",
       "      <td>12905</td>\n",
       "    </tr>\n",
       "    <tr>\n",
       "      <th>8</th>\n",
       "      <td>30970.0</td>\n",
       "      <td>8160</td>\n",
       "    </tr>\n",
       "    <tr>\n",
       "      <th>9</th>\n",
       "      <td>58078.0</td>\n",
       "      <td>12771</td>\n",
       "    </tr>\n",
       "  </tbody>\n",
       "</table>\n",
       "</div>"
      ],
      "text/plain": [
       "   ELMNTKEY  SEGKEY\n",
       "1    2794.0    2773\n",
       "4   12034.0   12025\n",
       "5   80890.0   12905\n",
       "8   30970.0    8160\n",
       "9   58078.0   12771"
      ]
     },
     "execution_count": 20,
     "metadata": {},
     "output_type": "execute_result"
    }
   ],
   "source": [
    "ba_inner.head()"
   ]
  },
  {
   "cell_type": "code",
   "execution_count": 21,
   "metadata": {},
   "outputs": [
    {
     "name": "stderr",
     "output_type": "stream",
     "text": [
      "E:\\Anaconda\\lib\\site-packages\\ipykernel_launcher.py:1: SettingWithCopyWarning: \n",
      "A value is trying to be set on a copy of a slice from a DataFrame\n",
      "\n",
      "See the caveats in the documentation: http://pandas.pydata.org/pandas-docs/stable/indexing.html#indexing-view-versus-copy\n",
      "  \"\"\"Entry point for launching an IPython kernel.\n"
     ]
    }
   ],
   "source": [
    "ba_inner.dropna(inplace=True)"
   ]
  },
  {
   "cell_type": "code",
   "execution_count": 22,
   "metadata": {},
   "outputs": [
    {
     "name": "stdout",
     "output_type": "stream",
     "text": [
      "<class 'pandas.core.frame.DataFrame'>\n",
      "Int64Index: 2223 entries, 1 to 47656\n",
      "Data columns (total 2 columns):\n",
      "ELMNTKEY    2223 non-null float64\n",
      "SEGKEY      2223 non-null int64\n",
      "dtypes: float64(1), int64(1)\n",
      "memory usage: 52.1 KB\n"
     ]
    }
   ],
   "source": [
    "ba_inner.info()"
   ]
  },
  {
   "cell_type": "code",
   "execution_count": 23,
   "metadata": {},
   "outputs": [
    {
     "data": {
      "text/html": [
       "<div>\n",
       "<style scoped>\n",
       "    .dataframe tbody tr th:only-of-type {\n",
       "        vertical-align: middle;\n",
       "    }\n",
       "\n",
       "    .dataframe tbody tr th {\n",
       "        vertical-align: top;\n",
       "    }\n",
       "\n",
       "    .dataframe thead th {\n",
       "        text-align: right;\n",
       "    }\n",
       "</style>\n",
       "<table border=\"1\" class=\"dataframe\">\n",
       "  <thead>\n",
       "    <tr style=\"text-align: right;\">\n",
       "      <th></th>\n",
       "      <th>SEGKEY</th>\n",
       "    </tr>\n",
       "  </thead>\n",
       "  <tbody>\n",
       "    <tr>\n",
       "      <th>1</th>\n",
       "      <td>2773</td>\n",
       "    </tr>\n",
       "    <tr>\n",
       "      <th>4</th>\n",
       "      <td>12025</td>\n",
       "    </tr>\n",
       "    <tr>\n",
       "      <th>5</th>\n",
       "      <td>12905</td>\n",
       "    </tr>\n",
       "    <tr>\n",
       "      <th>8</th>\n",
       "      <td>8160</td>\n",
       "    </tr>\n",
       "    <tr>\n",
       "      <th>9</th>\n",
       "      <td>12771</td>\n",
       "    </tr>\n",
       "  </tbody>\n",
       "</table>\n",
       "</div>"
      ],
      "text/plain": [
       "   SEGKEY\n",
       "1    2773\n",
       "4   12025\n",
       "5   12905\n",
       "8    8160\n",
       "9   12771"
      ]
     },
     "execution_count": 23,
     "metadata": {},
     "output_type": "execute_result"
    }
   ],
   "source": [
    "SEGKEY = ba_inner[['SEGKEY']]\n",
    "SEGKEY.head()"
   ]
  },
  {
   "cell_type": "code",
   "execution_count": 24,
   "metadata": {},
   "outputs": [],
   "source": [
    "SEGKEY.columns = ['COMPKEY']"
   ]
  },
  {
   "cell_type": "markdown",
   "metadata": {},
   "source": [
    "## Compare the csv file and the data from shapefile"
   ]
  },
  {
   "cell_type": "code",
   "execution_count": 25,
   "metadata": {},
   "outputs": [],
   "source": [
    "Seattle_Streets = pd.read_csv(\"../Datasets/Seattle_Streets.csv\")"
   ]
  },
  {
   "cell_type": "code",
   "execution_count": 26,
   "metadata": {},
   "outputs": [
    {
     "data": {
      "text/html": [
       "<div>\n",
       "<style scoped>\n",
       "    .dataframe tbody tr th:only-of-type {\n",
       "        vertical-align: middle;\n",
       "    }\n",
       "\n",
       "    .dataframe tbody tr th {\n",
       "        vertical-align: top;\n",
       "    }\n",
       "\n",
       "    .dataframe thead th {\n",
       "        text-align: right;\n",
       "    }\n",
       "</style>\n",
       "<table border=\"1\" class=\"dataframe\">\n",
       "  <thead>\n",
       "    <tr style=\"text-align: right;\">\n",
       "      <th></th>\n",
       "      <th>OBJECTID</th>\n",
       "      <th>ARTCLASS</th>\n",
       "      <th>COMPKEY</th>\n",
       "      <th>UNITIDSORT</th>\n",
       "      <th>UNITDESC</th>\n",
       "      <th>STNAME_ORD</th>\n",
       "      <th>XSTRLO</th>\n",
       "      <th>XSTRHI</th>\n",
       "      <th>ARTDESCRIPT</th>\n",
       "      <th>OWNER</th>\n",
       "      <th>...</th>\n",
       "      <th>DIRHI</th>\n",
       "      <th>NATIONHWYSYS</th>\n",
       "      <th>STREETTYPE</th>\n",
       "      <th>PVMTCONDINDX1</th>\n",
       "      <th>PVMTCONDINDX2</th>\n",
       "      <th>TRANCLASS</th>\n",
       "      <th>TRANDESCRIPT</th>\n",
       "      <th>SLOPE_PCT</th>\n",
       "      <th>PVMTCATEGORY</th>\n",
       "      <th>SHAPE_Length</th>\n",
       "    </tr>\n",
       "  </thead>\n",
       "  <tbody>\n",
       "    <tr>\n",
       "      <th>0</th>\n",
       "      <td>1</td>\n",
       "      <td>2.0</td>\n",
       "      <td>1002</td>\n",
       "      <td>100080.0</td>\n",
       "      <td>1ST AVE BETWEEN COLUMBIA ST AND MARION ST</td>\n",
       "      <td>1ST AVE</td>\n",
       "      <td>COLUMBIA ST</td>\n",
       "      <td>MARION ST</td>\n",
       "      <td>Minor Arterial</td>\n",
       "      <td></td>\n",
       "      <td>...</td>\n",
       "      <td>SE</td>\n",
       "      <td>N</td>\n",
       "      <td>Downtown Neighborhood</td>\n",
       "      <td>19.0</td>\n",
       "      <td>0.0</td>\n",
       "      <td>1</td>\n",
       "      <td>PRINCIPAL TRANSIT ROUTE</td>\n",
       "      <td>1.0</td>\n",
       "      <td>ART</td>\n",
       "      <td>305.996038</td>\n",
       "    </tr>\n",
       "    <tr>\n",
       "      <th>1</th>\n",
       "      <td>2</td>\n",
       "      <td>2.0</td>\n",
       "      <td>1020</td>\n",
       "      <td>100280.0</td>\n",
       "      <td>1ST AVE BETWEEN CLAY ST AND BROAD ST</td>\n",
       "      <td>1ST AVE</td>\n",
       "      <td>CLAY ST</td>\n",
       "      <td>BROAD ST</td>\n",
       "      <td>Minor Arterial</td>\n",
       "      <td></td>\n",
       "      <td>...</td>\n",
       "      <td>SE</td>\n",
       "      <td>N</td>\n",
       "      <td>Downtown Neighborhood</td>\n",
       "      <td>48.0</td>\n",
       "      <td>0.0</td>\n",
       "      <td>2</td>\n",
       "      <td>MAJOR TRANSIT ROUTE</td>\n",
       "      <td>1.0</td>\n",
       "      <td>ART</td>\n",
       "      <td>313.167074</td>\n",
       "    </tr>\n",
       "    <tr>\n",
       "      <th>2</th>\n",
       "      <td>3</td>\n",
       "      <td>1.0</td>\n",
       "      <td>1029</td>\n",
       "      <td>150050.0</td>\n",
       "      <td>1ST AVE N BETWEEN REPUBLICAN ST AND MERCER ST</td>\n",
       "      <td>1ST AVE N</td>\n",
       "      <td>REPUBLICAN ST</td>\n",
       "      <td>MERCER ST</td>\n",
       "      <td>Principal Arterial</td>\n",
       "      <td></td>\n",
       "      <td>...</td>\n",
       "      <td>S</td>\n",
       "      <td>N</td>\n",
       "      <td>Urban Village Main</td>\n",
       "      <td>61.0</td>\n",
       "      <td>0.0</td>\n",
       "      <td>2</td>\n",
       "      <td>MAJOR TRANSIT ROUTE</td>\n",
       "      <td>2.0</td>\n",
       "      <td>ART</td>\n",
       "      <td>476.654551</td>\n",
       "    </tr>\n",
       "    <tr>\n",
       "      <th>3</th>\n",
       "      <td>4</td>\n",
       "      <td>0.0</td>\n",
       "      <td>1057</td>\n",
       "      <td>150263.0</td>\n",
       "      <td>1ST AVE N BETWEEN DEAD END 2 AND NEWELL N ST</td>\n",
       "      <td>1ST AVE N</td>\n",
       "      <td>DEAD END 2</td>\n",
       "      <td>NEWELL N ST</td>\n",
       "      <td>Not Designated</td>\n",
       "      <td></td>\n",
       "      <td>...</td>\n",
       "      <td>S</td>\n",
       "      <td>N</td>\n",
       "      <td>Neighborhood Yield Street</td>\n",
       "      <td>0.0</td>\n",
       "      <td>0.0</td>\n",
       "      <td>0</td>\n",
       "      <td>NOT DESIGNATED</td>\n",
       "      <td>18.0</td>\n",
       "      <td>NON-ART</td>\n",
       "      <td>124.893068</td>\n",
       "    </tr>\n",
       "    <tr>\n",
       "      <th>4</th>\n",
       "      <td>5</td>\n",
       "      <td>0.0</td>\n",
       "      <td>1069</td>\n",
       "      <td>200500.0</td>\n",
       "      <td>1ST AVE NE BETWEEN NE 50TH ST AND NE 51ST ST</td>\n",
       "      <td>1ST AVE NE</td>\n",
       "      <td>NE 50TH ST</td>\n",
       "      <td>NE 51ST ST</td>\n",
       "      <td>Not Designated</td>\n",
       "      <td></td>\n",
       "      <td>...</td>\n",
       "      <td>S</td>\n",
       "      <td>N</td>\n",
       "      <td>Neighborhood Yield Street</td>\n",
       "      <td>35.0</td>\n",
       "      <td>0.0</td>\n",
       "      <td>0</td>\n",
       "      <td>NOT DESIGNATED</td>\n",
       "      <td>1.0</td>\n",
       "      <td>NON-ART</td>\n",
       "      <td>267.019097</td>\n",
       "    </tr>\n",
       "  </tbody>\n",
       "</table>\n",
       "<p>5 rows × 35 columns</p>\n",
       "</div>"
      ],
      "text/plain": [
       "   OBJECTID  ARTCLASS  COMPKEY  UNITIDSORT  \\\n",
       "0         1       2.0     1002    100080.0   \n",
       "1         2       2.0     1020    100280.0   \n",
       "2         3       1.0     1029    150050.0   \n",
       "3         4       0.0     1057    150263.0   \n",
       "4         5       0.0     1069    200500.0   \n",
       "\n",
       "                                        UNITDESC  STNAME_ORD         XSTRLO  \\\n",
       "0      1ST AVE BETWEEN COLUMBIA ST AND MARION ST     1ST AVE    COLUMBIA ST   \n",
       "1           1ST AVE BETWEEN CLAY ST AND BROAD ST     1ST AVE        CLAY ST   \n",
       "2  1ST AVE N BETWEEN REPUBLICAN ST AND MERCER ST   1ST AVE N  REPUBLICAN ST   \n",
       "3   1ST AVE N BETWEEN DEAD END 2 AND NEWELL N ST   1ST AVE N     DEAD END 2   \n",
       "4   1ST AVE NE BETWEEN NE 50TH ST AND NE 51ST ST  1ST AVE NE     NE 50TH ST   \n",
       "\n",
       "        XSTRHI         ARTDESCRIPT OWNER     ...      DIRHI  NATIONHWYSYS  \\\n",
       "0    MARION ST      Minor Arterial           ...         SE             N   \n",
       "1     BROAD ST      Minor Arterial           ...         SE             N   \n",
       "2    MERCER ST  Principal Arterial           ...          S             N   \n",
       "3  NEWELL N ST      Not Designated           ...          S             N   \n",
       "4   NE 51ST ST      Not Designated           ...          S             N   \n",
       "\n",
       "                  STREETTYPE PVMTCONDINDX1 PVMTCONDINDX2 TRANCLASS  \\\n",
       "0      Downtown Neighborhood          19.0           0.0         1   \n",
       "1      Downtown Neighborhood          48.0           0.0         2   \n",
       "2         Urban Village Main          61.0           0.0         2   \n",
       "3  Neighborhood Yield Street           0.0           0.0         0   \n",
       "4  Neighborhood Yield Street          35.0           0.0         0   \n",
       "\n",
       "              TRANDESCRIPT  SLOPE_PCT  PVMTCATEGORY SHAPE_Length  \n",
       "0  PRINCIPAL TRANSIT ROUTE        1.0           ART   305.996038  \n",
       "1      MAJOR TRANSIT ROUTE        1.0           ART   313.167074  \n",
       "2      MAJOR TRANSIT ROUTE        2.0           ART   476.654551  \n",
       "3           NOT DESIGNATED       18.0       NON-ART   124.893068  \n",
       "4           NOT DESIGNATED        1.0       NON-ART   267.019097  \n",
       "\n",
       "[5 rows x 35 columns]"
      ]
     },
     "execution_count": 26,
     "metadata": {},
     "output_type": "execute_result"
    }
   ],
   "source": [
    "Seattle_Streets.head()"
   ]
  },
  {
   "cell_type": "markdown",
   "metadata": {},
   "source": [
    "## Search the uploaded content and import the spatial dataframe"
   ]
  },
  {
   "cell_type": "code",
   "execution_count": 27,
   "metadata": {},
   "outputs": [],
   "source": [
    "streets = gis.content.search(\"Seattle_Street\", \"feature service\")[0]"
   ]
  },
  {
   "cell_type": "code",
   "execution_count": 28,
   "metadata": {},
   "outputs": [],
   "source": [
    "streets=streets.layers[0]"
   ]
  },
  {
   "cell_type": "code",
   "execution_count": 29,
   "metadata": {},
   "outputs": [],
   "source": [
    "sdf = pd.DataFrame.spatial.from_layer(streets)"
   ]
  },
  {
   "cell_type": "code",
   "execution_count": 30,
   "metadata": {},
   "outputs": [
    {
     "name": "stdout",
     "output_type": "stream",
     "text": [
      "<class 'pandas.core.frame.DataFrame'>\n",
      "RangeIndex: 23811 entries, 0 to 23810\n",
      "Data columns (total 38 columns):\n",
      "ARTCLASS         23811 non-null int64\n",
      "ARTDESCRIP       23811 non-null object\n",
      "BLOCKNBR         23811 non-null int64\n",
      "COMPKEY          23811 non-null int64\n",
      "DIRHI            23811 non-null object\n",
      "DIRLO            23811 non-null object\n",
      "FID              23811 non-null int64\n",
      "FLOW             23811 non-null object\n",
      "INTKEYLO         23811 non-null int64\n",
      "INTRHI           23811 non-null object\n",
      "INTRLO           23811 non-null object\n",
      "NATIONHWYS       23811 non-null object\n",
      "OBJECTID         23811 non-null int64\n",
      "ONEWAY           23811 non-null object\n",
      "ONEWAYDIR        23811 non-null object\n",
      "OWNER            23811 non-null object\n",
      "PVMTCATEGO       23811 non-null object\n",
      "PVMTCONDIN       23811 non-null int64\n",
      "PVMTCOND_1       23811 non-null int64\n",
      "SEGDIR           23811 non-null object\n",
      "SEGLENGTH        23811 non-null float64\n",
      "SHAPE            23811 non-null geometry\n",
      "SHAPE_Leng       23811 non-null float64\n",
      "SLOPE_PCT        23811 non-null int64\n",
      "SPEEDLIMIT       23811 non-null int64\n",
      "STATUS           23811 non-null object\n",
      "STNAME_ORD       23811 non-null object\n",
      "STREETTYPE       23811 non-null object\n",
      "SURFACETYP       23811 non-null object\n",
      "SURFACET_1       23811 non-null object\n",
      "SURFACEWID       23811 non-null int64\n",
      "Shape__Length    23811 non-null float64\n",
      "TRANCLASS        23811 non-null int64\n",
      "TRANDESCRI       23811 non-null object\n",
      "UNITDESC         23811 non-null object\n",
      "UNITIDSORT       23811 non-null object\n",
      "XSTRHI           23811 non-null object\n",
      "XSTRLO           23811 non-null object\n",
      "dtypes: float64(3), geometry(1), int64(12), object(22)\n",
      "memory usage: 6.9+ MB\n"
     ]
    }
   ],
   "source": [
    "sdf.info()"
   ]
  },
  {
   "cell_type": "code",
   "execution_count": 31,
   "metadata": {},
   "outputs": [
    {
     "data": {
      "text/plain": [
       "ARTCLASS            int64\n",
       "ARTDESCRIP         object\n",
       "BLOCKNBR            int64\n",
       "COMPKEY             int64\n",
       "DIRHI              object\n",
       "DIRLO              object\n",
       "FID                 int64\n",
       "FLOW               object\n",
       "INTKEYLO            int64\n",
       "INTRHI             object\n",
       "INTRLO             object\n",
       "NATIONHWYS         object\n",
       "OBJECTID            int64\n",
       "ONEWAY             object\n",
       "ONEWAYDIR          object\n",
       "OWNER              object\n",
       "PVMTCATEGO         object\n",
       "PVMTCONDIN          int64\n",
       "PVMTCOND_1          int64\n",
       "SEGDIR             object\n",
       "SEGLENGTH         float64\n",
       "SHAPE            geometry\n",
       "SHAPE_Leng        float64\n",
       "SLOPE_PCT           int64\n",
       "SPEEDLIMIT          int64\n",
       "STATUS             object\n",
       "STNAME_ORD         object\n",
       "STREETTYPE         object\n",
       "SURFACETYP         object\n",
       "SURFACET_1         object\n",
       "SURFACEWID          int64\n",
       "Shape__Length     float64\n",
       "TRANCLASS           int64\n",
       "TRANDESCRI         object\n",
       "UNITDESC           object\n",
       "UNITIDSORT         object\n",
       "XSTRHI             object\n",
       "XSTRLO             object\n",
       "dtype: object"
      ]
     },
     "execution_count": 31,
     "metadata": {},
     "output_type": "execute_result"
    }
   ],
   "source": [
    "sdf.dtypes"
   ]
  },
  {
   "cell_type": "code",
   "execution_count": 32,
   "metadata": {},
   "outputs": [
    {
     "data": {
      "text/plain": [
       "True"
      ]
     },
     "execution_count": 32,
     "metadata": {},
     "output_type": "execute_result"
    }
   ],
   "source": [
    "sdf.spatial.validate()"
   ]
  },
  {
   "cell_type": "code",
   "execution_count": 34,
   "metadata": {},
   "outputs": [
    {
     "data": {
      "text/plain": [
       "['Polyline']"
      ]
     },
     "execution_count": 34,
     "metadata": {},
     "output_type": "execute_result"
    }
   ],
   "source": [
    "sdf.spatial.geometry_type"
   ]
  },
  {
   "cell_type": "code",
   "execution_count": 35,
   "metadata": {},
   "outputs": [
    {
     "name": "stderr",
     "output_type": "stream",
     "text": [
      "E:\\Anaconda\\lib\\site-packages\\arcgis\\features\\geo\\_accessor.py:858: SettingWithCopyWarning: \n",
      "A value is trying to be set on a copy of a slice from a DataFrame.\n",
      "Try using .loc[row_indexer,col_indexer] = value instead\n",
      "\n",
      "See the caveats in the documentation: http://pandas.pydata.org/pandas-docs/stable/indexing.html#indexing-view-versus-copy\n",
      "  self._data[col] = self._data[col]\n"
     ]
    },
    {
     "data": {
      "text/plain": [
       "['Polyline']"
      ]
     },
     "execution_count": 35,
     "metadata": {},
     "output_type": "execute_result"
    }
   ],
   "source": [
    "sdf.head().spatial.geometry_type"
   ]
  },
  {
   "cell_type": "markdown",
   "metadata": {},
   "source": [
    "## Select the rows again"
   ]
  },
  {
   "cell_type": "code",
   "execution_count": 36,
   "metadata": {},
   "outputs": [],
   "source": [
    "# street_block_merge = pd.merge(sdf,SEGKEY, how='inner', on=['COMPKEY'])\n",
    "SEGKEY.head()\n",
    "street_block_merge = sdf.loc[sdf['COMPKEY'].isin(SEGKEY['COMPKEY'])]"
   ]
  },
  {
   "cell_type": "code",
   "execution_count": 37,
   "metadata": {},
   "outputs": [
    {
     "name": "stderr",
     "output_type": "stream",
     "text": [
      "E:\\Anaconda\\lib\\site-packages\\ipykernel_launcher.py:1: SettingWithCopyWarning: \n",
      "A value is trying to be set on a copy of a slice from a DataFrame\n",
      "\n",
      "See the caveats in the documentation: http://pandas.pydata.org/pandas-docs/stable/indexing.html#indexing-view-versus-copy\n",
      "  \"\"\"Entry point for launching an IPython kernel.\n"
     ]
    },
    {
     "data": {
      "text/plain": [
       "False"
      ]
     },
     "execution_count": 37,
     "metadata": {},
     "output_type": "execute_result"
    }
   ],
   "source": [
    "street_block_merge.dropna(inplace=True)\n",
    "# street_block_merge.spatial.validate()"
   ]
  },
  {
   "cell_type": "code",
   "execution_count": 38,
   "metadata": {},
   "outputs": [
    {
     "name": "stderr",
     "output_type": "stream",
     "text": [
      "E:\\Anaconda\\lib\\site-packages\\arcgis\\features\\geo\\_accessor.py:858: SettingWithCopyWarning: \n",
      "A value is trying to be set on a copy of a slice from a DataFrame.\n",
      "Try using .loc[row_indexer,col_indexer] = value instead\n",
      "\n",
      "See the caveats in the documentation: http://pandas.pydata.org/pandas-docs/stable/indexing.html#indexing-view-versus-copy\n",
      "  self._data[col] = self._data[col]\n"
     ]
    },
    {
     "data": {
      "text/plain": [
       "['Polyline']"
      ]
     },
     "execution_count": 38,
     "metadata": {},
     "output_type": "execute_result"
    }
   ],
   "source": [
    "street_block_merge.spatial.geometry_type"
   ]
  },
  {
   "cell_type": "code",
   "execution_count": 43,
   "metadata": {},
   "outputs": [
    {
     "name": "stdout",
     "output_type": "stream",
     "text": [
      "<class 'pandas.core.frame.DataFrame'>\n",
      "Int64Index: 1297 entries, 4 to 23739\n",
      "Data columns (total 38 columns):\n",
      "ARTCLASS         1297 non-null int64\n",
      "ARTDESCRIP       1297 non-null object\n",
      "BLOCKNBR         1297 non-null int64\n",
      "COMPKEY          1297 non-null int64\n",
      "DIRHI            1297 non-null object\n",
      "DIRLO            1297 non-null object\n",
      "FID              1297 non-null int64\n",
      "FLOW             1297 non-null object\n",
      "INTKEYLO         1297 non-null int64\n",
      "INTRHI           1297 non-null object\n",
      "INTRLO           1297 non-null object\n",
      "NATIONHWYS       1297 non-null object\n",
      "OBJECTID         1297 non-null int64\n",
      "ONEWAY           1297 non-null object\n",
      "ONEWAYDIR        1297 non-null object\n",
      "OWNER            1297 non-null object\n",
      "PVMTCATEGO       1297 non-null object\n",
      "PVMTCONDIN       1297 non-null int64\n",
      "PVMTCOND_1       1297 non-null int64\n",
      "SEGDIR           1297 non-null object\n",
      "SEGLENGTH        1297 non-null float64\n",
      "SHAPE            1297 non-null geometry\n",
      "SHAPE_Leng       1297 non-null float64\n",
      "SLOPE_PCT        1297 non-null int64\n",
      "SPEEDLIMIT       1297 non-null int64\n",
      "STATUS           1297 non-null object\n",
      "STNAME_ORD       1297 non-null object\n",
      "STREETTYPE       1297 non-null object\n",
      "SURFACETYP       1297 non-null object\n",
      "SURFACET_1       1297 non-null object\n",
      "SURFACEWID       1297 non-null int64\n",
      "Shape__Length    1297 non-null float64\n",
      "TRANCLASS        1297 non-null int64\n",
      "TRANDESCRI       1297 non-null object\n",
      "UNITDESC         1297 non-null object\n",
      "UNITIDSORT       1297 non-null object\n",
      "XSTRHI           1297 non-null object\n",
      "XSTRLO           1297 non-null object\n",
      "dtypes: float64(3), geometry(1), int64(12), object(22)\n",
      "memory usage: 395.2+ KB\n"
     ]
    }
   ],
   "source": [
    "street_block_merge.info()"
   ]
  },
  {
   "cell_type": "markdown",
   "metadata": {},
   "source": [
    "## Draw on the map"
   ]
  },
  {
   "cell_type": "code",
   "execution_count": 47,
   "metadata": {},
   "outputs": [
    {
     "data": {
      "application/vnd.jupyter.widget-view+json": {
       "model_id": "d38a3303a01c48b1b6a029110ace4f68",
       "version_major": 2,
       "version_minor": 0
      },
      "text/plain": [
       "MapView(layout=Layout(height='400px', width='100%'), zoom=10.0)"
      ]
     },
     "metadata": {},
     "output_type": "display_data"
    }
   ],
   "source": [
    "Seattle = gis.map(\"Seattle\", 10)\n",
    "Seattle"
   ]
  },
  {
   "cell_type": "code",
   "execution_count": 49,
   "metadata": {},
   "outputs": [
    {
     "data": {
      "text/plain": [
       "True"
      ]
     },
     "execution_count": 49,
     "metadata": {},
     "output_type": "execute_result"
    }
   ],
   "source": [
    "street_block_merge.spatial.plot(map_widget = Seattle, symbol_type='simple', colors='autumn')"
   ]
  },
  {
   "cell_type": "code",
   "execution_count": null,
   "metadata": {},
   "outputs": [],
   "source": []
  }
 ],
 "metadata": {
  "kernelspec": {
   "display_name": "Python 3",
   "language": "python",
   "name": "python3"
  },
  "language_info": {
   "codemirror_mode": {
    "name": "ipython",
    "version": 3
   },
   "file_extension": ".py",
   "mimetype": "text/x-python",
   "name": "python",
   "nbconvert_exporter": "python",
   "pygments_lexer": "ipython3",
   "version": "3.7.0"
  }
 },
 "nbformat": 4,
 "nbformat_minor": 2
}
