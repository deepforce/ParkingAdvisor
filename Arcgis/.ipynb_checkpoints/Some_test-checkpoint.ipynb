{
 "cells": [
  {
   "cell_type": "markdown",
   "metadata": {},
   "source": [
    "### Import ArcGIS and initialize the extent of the map."
   ]
  },
  {
   "cell_type": "code",
   "execution_count": 1,
   "metadata": {},
   "outputs": [
    {
     "data": {
      "application/vnd.jupyter.widget-view+json": {
       "model_id": "3aaff779675046ec8c290d9d4fc01feb",
       "version_major": 2,
       "version_minor": 0
      },
      "text/plain": [
       "MapView(layout=Layout(height='400px', width='100%'))"
      ]
     },
     "metadata": {},
     "output_type": "display_data"
    }
   ],
   "source": [
    "from arcgis.gis import GIS\n",
    "my_gis = GIS()\n",
    "my_gis.map()"
   ]
  },
  {
   "cell_type": "markdown",
   "metadata": {},
   "source": [
    "### Passing a place name to the constructor to display a specific map."
   ]
  },
  {
   "cell_type": "code",
   "execution_count": 2,
   "metadata": {},
   "outputs": [
    {
     "data": {
      "application/vnd.jupyter.widget-view+json": {
       "model_id": "54d80996a287418a8d4423111fd2626f",
       "version_major": 2,
       "version_minor": 0
      },
      "text/plain": [
       "MapView(layout=Layout(height='400px', width='100%'))"
      ]
     },
     "metadata": {},
     "output_type": "display_data"
    }
   ],
   "source": [
    "my_gis.map(\"Seattle\")"
   ]
  },
  {
   "cell_type": "markdown",
   "metadata": {},
   "source": [
    "### Create a 3D mode"
   ]
  },
  {
   "cell_type": "code",
   "execution_count": 4,
   "metadata": {},
   "outputs": [
    {
     "data": {
      "application/vnd.jupyter.widget-view+json": {
       "model_id": "65473aa6309a4623a82e9fc959c6c2e3",
       "version_major": 2,
       "version_minor": 0
      },
      "text/plain": [
       "MapView(layout=Layout(height='400px', width='100%'), mode='3D', zoom=4.0)"
      ]
     },
     "metadata": {},
     "output_type": "display_data"
    }
   ],
   "source": [
    "gis = GIS()\n",
    "usa_map = gis.map('USA', zoomlevel=4, mode=\"3D\") #Notice `mode=\"3D\"`\n",
    "usa_map"
   ]
  },
  {
   "cell_type": "markdown",
   "metadata": {},
   "source": [
    "### plot an address using a single line address"
   ]
  },
  {
   "cell_type": "code",
   "execution_count": 6,
   "metadata": {},
   "outputs": [
    {
     "data": {
      "application/vnd.jupyter.widget-view+json": {
       "model_id": "4f63ade2febe4b198e8518f5bb610f98",
       "version_major": 2,
       "version_minor": 0
      },
      "text/plain": [
       "MapView(layout=Layout(height='400px', width='100%'))"
      ]
     },
     "metadata": {},
     "output_type": "display_data"
    }
   ],
   "source": [
    "from arcgis.geocoding import geocode\n",
    "gis = GIS()\n",
    "map = gis.map(\"Seattle, WA\")\n",
    "single_line_address = \"University of Washington, 98195\"\n",
    "# geocode the single line address and plot the location of the first geocode result on the map\n",
    "esrihq = geocode(single_line_address)[0]\n",
    "# add a popup to the matched location\n",
    "popup = { \n",
    "    \"title\" : \"University of Washington\", \n",
    "    \"content\" : esrihq['address']\n",
    "    }\n",
    "map.draw(esrihq['location'], popup)\n",
    "map"
   ]
  },
  {
   "cell_type": "markdown",
   "metadata": {},
   "source": [
    "### Add a layer of trails on the map."
   ]
  },
  {
   "cell_type": "code",
   "execution_count": null,
   "metadata": {},
   "outputs": [],
   "source": [
    "from arcgis.gis import GIS\n",
    "zion_map = gis.map(\"Angel's Landing UT\", 15)\n",
    "zion_map.mode = \"3D\"\n",
    "zion_map.tilt= 40\n",
    "zion_map.heading = 180\n",
    "trails_layer = gis.content.get('dd0889d7ccd340dd876dac12184e99f9').layers[0]\n",
    "zion_map.add_layer(trails_layer)\n",
    "symbol = {\n",
    "  \"type\": \"line-3d\",  # JS type of new LineSymbol3D()\n",
    "  \"symbolLayers\": [{\n",
    "    \"type\": \"path\",  # JS type of new PathSymbol3DLayer()\n",
    "    \"size\": 20,  # 20 meters in diameter\n",
    "    \"material\": { \"color\": \"#0083ff\" } #The hex color code\n",
    "  }]\n",
    "}\n",
    "zion_map.add_layer(trails_layer,\n",
    "    {\"renderer\" : \"autocast\", #Tell Python to autocast JS types\n",
    "     \"type\" : \"simple\",  #JS type of SimpleRenderer()\n",
    "     \"symbol\": symbol}   #The symbol we previously defined\n",
    ")\n",
    "zion_map.center = {'spatialReference': {'latestWkid': 3857, 'wkid': 102100},\n",
    " 'x': -12573456.64044217,\n",
    " 'y': 4476861.2153126905,\n",
    " 'z': 1638.3878966225311}\n",
    "zion_map.zoom= 15.528381436708822\n",
    "zion_map.heading = 190\n",
    "zion_map.tilt = 45\n",
    "zion_map"
   ]
  }
 ],
 "metadata": {
  "kernelspec": {
   "display_name": "Python 3",
   "language": "python",
   "name": "python3"
  },
  "language_info": {
   "codemirror_mode": {
    "name": "ipython",
    "version": 3
   },
   "file_extension": ".py",
   "mimetype": "text/x-python",
   "name": "python",
   "nbconvert_exporter": "python",
   "pygments_lexer": "ipython3",
   "version": "3.6.6"
  }
 },
 "nbformat": 4,
 "nbformat_minor": 2
}
