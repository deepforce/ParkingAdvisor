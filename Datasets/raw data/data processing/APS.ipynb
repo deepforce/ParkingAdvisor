{
 "cells": [
  {
   "cell_type": "code",
   "execution_count": 102,
   "metadata": {},
   "outputs": [],
   "source": [
    "import os\n",
    "import pandas as pd\n",
    "import numpy as np\n",
    "from datetime import datetime"
   ]
  },
  {
   "cell_type": "code",
   "execution_count": 111,
   "metadata": {},
   "outputs": [
    {
     "name": "stderr",
     "output_type": "stream",
     "text": [
      "/anaconda3/lib/python3.7/site-packages/IPython/core/interactiveshell.py:2901: DtypeWarning: Columns (20) have mixed types. Specify dtype option on import or set low_memory=False.\n",
      "  if self.run_code(code, result):\n"
     ]
    }
   ],
   "source": [
    "#import \"Annual_Parking_Study_Data\" to creat 'pkdt' dataframe\n",
    "#read data\n",
    "def read_data(filename, col_names):\n",
    "    df = pd.read_csv(filename)\n",
    "    df = df[col_names]\n",
    "    return df\n",
    "\n",
    "col_names = ['Date Time','Unitdesc','Side', 'Parking_Spaces', 'Total_Vehicle_Count', 'Construction', 'Event Closure']\n",
    "pkdt = read_data('Annual_Parking_Study_Data.csv', col_names)"
   ]
  },
  {
   "cell_type": "code",
   "execution_count": 104,
   "metadata": {},
   "outputs": [],
   "source": [
    "#specific processing\n",
    "pkdt.rename(columns={'Event Closure' : 'Event', 'Date Time' : 'Time'}, inplace = True)\n",
    "pkdt.reset_index(drop=True, inplace=True)\n",
    "pkdt = pkdt.dropna()"
   ]
  },
  {
   "cell_type": "code",
   "execution_count": 105,
   "metadata": {},
   "outputs": [],
   "source": [
    "#filter the data with 'Construction' and 'Event' column are \"No\"\n",
    "pkdt = pkdt[pkdt.Construction != 'Yes']\n",
    "pkdt = pkdt[pkdt.Construction != 'yes']\n",
    "pkdt = pkdt[pkdt.Construction != 'ERROR: #N/A']\n",
    "pkdt = pkdt[pkdt.Event != 'Yes']\n",
    "pkdt = pkdt.drop('Construction', axis = 1)\n",
    "pkdt = pkdt.drop('Event', axis = 1)"
   ]
  },
  {
   "cell_type": "code",
   "execution_count": 106,
   "metadata": {},
   "outputs": [],
   "source": [
    "#group rows with same 'Time' and 'Unitdesc', for other columns, find the sum\n",
    "pkdt = pkdt.groupby(['Time', 'Unitdesc'], as_index = False)['Parking_Spaces', 'Total_Vehicle_Count'].sum()"
   ]
  },
  {
   "cell_type": "code",
   "execution_count": 107,
   "metadata": {
    "scrolled": true
   },
   "outputs": [
    {
     "name": "stderr",
     "output_type": "stream",
     "text": [
      "/anaconda3/lib/python3.7/site-packages/ipykernel_launcher.py:2: RuntimeWarning: invalid value encountered in minimum\n",
      "  \n"
     ]
    }
   ],
   "source": [
    "#find the occupancy and append it to the pkdt\n",
    "Occupancy = np.minimum(pkdt['Total_Vehicle_Count'] / pkdt['Parking_Spaces'], 1)\n",
    "pkdt['Occupancy'] = Occupancy\n",
    "pkdt = pkdt.dropna()\n",
    "pkdt = pkdt.drop('Total_Vehicle_Count', axis = 1)"
   ]
  },
  {
   "cell_type": "code",
   "execution_count": 108,
   "metadata": {
    "scrolled": true
   },
   "outputs": [],
   "source": [
    "#retrivev 'hour' column from general datetime\n",
    "pkdt['Time'] = pd.to_datetime(pkdt['Time'], format = '%m-%d-%y %H:%M:%S')\n",
    "times = pd.DatetimeIndex(pkdt['Time'])\n",
    "pkdt['Hour'] = times.hour\n"
   ]
  },
  {
   "cell_type": "code",
   "execution_count": 109,
   "metadata": {},
   "outputs": [],
   "source": [
    "#group data by 'hour' and 'Unidesc' and average other columns\n",
    "pkdt = pkdt.groupby(['Hour', 'Unitdesc'], as_index = False)['Parking_Spaces', 'Occupancy'].mean()"
   ]
  },
  {
   "cell_type": "code",
   "execution_count": 110,
   "metadata": {},
   "outputs": [
    {
     "data": {
      "text/html": [
       "<div>\n",
       "<style scoped>\n",
       "    .dataframe tbody tr th:only-of-type {\n",
       "        vertical-align: middle;\n",
       "    }\n",
       "\n",
       "    .dataframe tbody tr th {\n",
       "        vertical-align: top;\n",
       "    }\n",
       "\n",
       "    .dataframe thead th {\n",
       "        text-align: right;\n",
       "    }\n",
       "</style>\n",
       "<table border=\"1\" class=\"dataframe\">\n",
       "  <thead>\n",
       "    <tr style=\"text-align: right;\">\n",
       "      <th></th>\n",
       "      <th>Hour</th>\n",
       "      <th>Unitdesc</th>\n",
       "      <th>Parking_Spaces</th>\n",
       "      <th>Occupancy</th>\n",
       "    </tr>\n",
       "  </thead>\n",
       "  <tbody>\n",
       "    <tr>\n",
       "      <th>0</th>\n",
       "      <td>0</td>\n",
       "      <td>10TH AVE BETWEEN E PIKE ST AND E PINE ST</td>\n",
       "      <td>53.333333</td>\n",
       "      <td>0.983333</td>\n",
       "    </tr>\n",
       "    <tr>\n",
       "      <th>1</th>\n",
       "      <td>1</td>\n",
       "      <td>10TH AVE BETWEEN E PIKE ST AND E PINE ST</td>\n",
       "      <td>40.000000</td>\n",
       "      <td>0.350000</td>\n",
       "    </tr>\n",
       "    <tr>\n",
       "      <th>2</th>\n",
       "      <td>2</td>\n",
       "      <td>10TH AVE BETWEEN E PIKE ST AND E PINE ST</td>\n",
       "      <td>40.000000</td>\n",
       "      <td>0.200000</td>\n",
       "    </tr>\n",
       "    <tr>\n",
       "      <th>3</th>\n",
       "      <td>8</td>\n",
       "      <td>10TH AVE BETWEEN E PIKE ST AND E PINE ST</td>\n",
       "      <td>46.800000</td>\n",
       "      <td>0.493407</td>\n",
       "    </tr>\n",
       "    <tr>\n",
       "      <th>4</th>\n",
       "      <td>9</td>\n",
       "      <td>10TH AVE BETWEEN E PIKE ST AND E PINE ST</td>\n",
       "      <td>46.800000</td>\n",
       "      <td>0.626703</td>\n",
       "    </tr>\n",
       "    <tr>\n",
       "      <th>5</th>\n",
       "      <td>10</td>\n",
       "      <td>10TH AVE BETWEEN E PIKE ST AND E PINE ST</td>\n",
       "      <td>46.800000</td>\n",
       "      <td>0.829231</td>\n",
       "    </tr>\n",
       "    <tr>\n",
       "      <th>6</th>\n",
       "      <td>11</td>\n",
       "      <td>10TH AVE BETWEEN E PIKE ST AND E PINE ST</td>\n",
       "      <td>46.800000</td>\n",
       "      <td>0.795073</td>\n",
       "    </tr>\n",
       "    <tr>\n",
       "      <th>7</th>\n",
       "      <td>12</td>\n",
       "      <td>10TH AVE BETWEEN E PIKE ST AND E PINE ST</td>\n",
       "      <td>46.800000</td>\n",
       "      <td>0.929872</td>\n",
       "    </tr>\n",
       "    <tr>\n",
       "      <th>8</th>\n",
       "      <td>13</td>\n",
       "      <td>10TH AVE BETWEEN E PIKE ST AND E PINE ST</td>\n",
       "      <td>46.800000</td>\n",
       "      <td>0.906630</td>\n",
       "    </tr>\n",
       "    <tr>\n",
       "      <th>9</th>\n",
       "      <td>14</td>\n",
       "      <td>10TH AVE BETWEEN E PIKE ST AND E PINE ST</td>\n",
       "      <td>46.800000</td>\n",
       "      <td>0.881502</td>\n",
       "    </tr>\n",
       "    <tr>\n",
       "      <th>10</th>\n",
       "      <td>15</td>\n",
       "      <td>10TH AVE BETWEEN E PIKE ST AND E PINE ST</td>\n",
       "      <td>46.800000</td>\n",
       "      <td>0.757088</td>\n",
       "    </tr>\n",
       "    <tr>\n",
       "      <th>11</th>\n",
       "      <td>16</td>\n",
       "      <td>10TH AVE BETWEEN E PIKE ST AND E PINE ST</td>\n",
       "      <td>46.800000</td>\n",
       "      <td>0.793315</td>\n",
       "    </tr>\n",
       "    <tr>\n",
       "      <th>12</th>\n",
       "      <td>17</td>\n",
       "      <td>10TH AVE BETWEEN E PIKE ST AND E PINE ST</td>\n",
       "      <td>46.800000</td>\n",
       "      <td>0.747088</td>\n",
       "    </tr>\n",
       "    <tr>\n",
       "      <th>13</th>\n",
       "      <td>18</td>\n",
       "      <td>10TH AVE BETWEEN E PIKE ST AND E PINE ST</td>\n",
       "      <td>46.800000</td>\n",
       "      <td>0.946758</td>\n",
       "    </tr>\n",
       "    <tr>\n",
       "      <th>14</th>\n",
       "      <td>19</td>\n",
       "      <td>10TH AVE BETWEEN E PIKE ST AND E PINE ST</td>\n",
       "      <td>46.800000</td>\n",
       "      <td>0.994286</td>\n",
       "    </tr>\n",
       "    <tr>\n",
       "      <th>15</th>\n",
       "      <td>20</td>\n",
       "      <td>10TH AVE BETWEEN E PIKE ST AND E PINE ST</td>\n",
       "      <td>46.800000</td>\n",
       "      <td>1.000000</td>\n",
       "    </tr>\n",
       "    <tr>\n",
       "      <th>16</th>\n",
       "      <td>21</td>\n",
       "      <td>10TH AVE BETWEEN E PIKE ST AND E PINE ST</td>\n",
       "      <td>46.800000</td>\n",
       "      <td>1.000000</td>\n",
       "    </tr>\n",
       "    <tr>\n",
       "      <th>17</th>\n",
       "      <td>22</td>\n",
       "      <td>10TH AVE BETWEEN E PIKE ST AND E PINE ST</td>\n",
       "      <td>47.000000</td>\n",
       "      <td>0.973333</td>\n",
       "    </tr>\n",
       "    <tr>\n",
       "      <th>18</th>\n",
       "      <td>23</td>\n",
       "      <td>10TH AVE BETWEEN E PIKE ST AND E PINE ST</td>\n",
       "      <td>47.000000</td>\n",
       "      <td>0.988889</td>\n",
       "    </tr>\n",
       "  </tbody>\n",
       "</table>\n",
       "</div>"
      ],
      "text/plain": [
       "    Hour                                  Unitdesc  Parking_Spaces  Occupancy\n",
       "0      0  10TH AVE BETWEEN E PIKE ST AND E PINE ST       53.333333   0.983333\n",
       "1      1  10TH AVE BETWEEN E PIKE ST AND E PINE ST       40.000000   0.350000\n",
       "2      2  10TH AVE BETWEEN E PIKE ST AND E PINE ST       40.000000   0.200000\n",
       "3      8  10TH AVE BETWEEN E PIKE ST AND E PINE ST       46.800000   0.493407\n",
       "4      9  10TH AVE BETWEEN E PIKE ST AND E PINE ST       46.800000   0.626703\n",
       "5     10  10TH AVE BETWEEN E PIKE ST AND E PINE ST       46.800000   0.829231\n",
       "6     11  10TH AVE BETWEEN E PIKE ST AND E PINE ST       46.800000   0.795073\n",
       "7     12  10TH AVE BETWEEN E PIKE ST AND E PINE ST       46.800000   0.929872\n",
       "8     13  10TH AVE BETWEEN E PIKE ST AND E PINE ST       46.800000   0.906630\n",
       "9     14  10TH AVE BETWEEN E PIKE ST AND E PINE ST       46.800000   0.881502\n",
       "10    15  10TH AVE BETWEEN E PIKE ST AND E PINE ST       46.800000   0.757088\n",
       "11    16  10TH AVE BETWEEN E PIKE ST AND E PINE ST       46.800000   0.793315\n",
       "12    17  10TH AVE BETWEEN E PIKE ST AND E PINE ST       46.800000   0.747088\n",
       "13    18  10TH AVE BETWEEN E PIKE ST AND E PINE ST       46.800000   0.946758\n",
       "14    19  10TH AVE BETWEEN E PIKE ST AND E PINE ST       46.800000   0.994286\n",
       "15    20  10TH AVE BETWEEN E PIKE ST AND E PINE ST       46.800000   1.000000\n",
       "16    21  10TH AVE BETWEEN E PIKE ST AND E PINE ST       46.800000   1.000000\n",
       "17    22  10TH AVE BETWEEN E PIKE ST AND E PINE ST       47.000000   0.973333\n",
       "18    23  10TH AVE BETWEEN E PIKE ST AND E PINE ST       47.000000   0.988889"
      ]
     },
     "execution_count": 110,
     "metadata": {},
     "output_type": "execute_result"
    }
   ],
   "source": [
    "#select specific street name\n",
    "def select_street(df, street_name):\n",
    "    df = df[df['Unitdesc'] == street_name]\n",
    "    df = df.groupby(['Hour', 'Unitdesc'] ,as_index = False)['Parking_Spaces', 'Occupancy'].mean()\n",
    "    return df\n",
    "\n",
    "select_street(pkdt, '10TH AVE BETWEEN E PIKE ST AND E PINE ST')"
   ]
  }
 ],
 "metadata": {
  "kernelspec": {
   "display_name": "Python 3",
   "language": "python",
   "name": "python3"
  },
  "language_info": {
   "codemirror_mode": {
    "name": "ipython",
    "version": 3
   },
   "file_extension": ".py",
   "mimetype": "text/x-python",
   "name": "python",
   "nbconvert_exporter": "python",
   "pygments_lexer": "ipython3",
   "version": "3.7.0"
  }
 },
 "nbformat": 4,
 "nbformat_minor": 2
}
