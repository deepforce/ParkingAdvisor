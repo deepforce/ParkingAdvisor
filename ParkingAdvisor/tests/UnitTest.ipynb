{
 "cells": [
  {
   "cell_type": "code",
   "execution_count": null,
   "metadata": {},
   "outputs": [],
   "source": [
    "\"\"\"This is a unittest for functions.py\"\"\"\n",
    "import unittest"
   ]
  },
  {
   "cell_type": "code",
   "execution_count": null,
   "metadata": {},
   "outputs": [],
   "source": [
    "from functions import read_data\n",
    "from functions import data_filter\n",
    "from functions import select_street"
   ]
  },
  {
   "cell_type": "code",
   "execution_count": null,
   "metadata": {},
   "outputs": [],
   "source": [
    "class UnitTests(unittest.TestCase):\n",
    "    \"\"\" This class is a unittest for functions.py\"\"\"\n",
    "    def test_read_data(self):\n",
    "        \"\"\" check the column name of the dataframe\"\"\"\n",
    "        columns_known = ['Date Time','Unitdesc','Side', 'Parking_Spaces', 'Total_Vehicle_Count', 'Construction', 'Event Closure']\n",
    "        dataframe = read_data('testfile1.csv', columns_known)\n",
    "        self.assertEqual(dataframe.columns.tolist(), columns_known)\n",
    "        wrong_column = ['Date Time','Unitdesc','Side', 'Total_Vehicle_Count', 'Event Closure']\n",
    "        self.assertNotEqual(dataframe.columns.tolist(), wrong_column)\n",
    "        \n",
    "    def test_data_filter(self):\n",
    "        \"\"\"check there is no value of 'Yes' in specific column\"\"\"\n",
    "        columns_known = ['Date Time','Unitdesc','Side', 'Parking_Spaces', 'Total_Vehicle_Count', 'Construction', 'Event Closure']\n",
    "        dataframe = read_data('testfile1.csv', columns_known)\n",
    "        values = ['Yes', 'yes', 'ERROR: #N/A']\n",
    "        dataframe= data_filter(dataframe, 'Construction', values)\n",
    "        dataframe = data_filter(dataframe, 'Event Closure', ['Yes'])\n",
    "        self.assertEqual(set(dataframe['Construction']) , {'No'})\n",
    "        self.assertEqual(set(dataframe['Event Closure']) , {'No'})\n",
    "        \n",
    "    def test_select_street(self):\n",
    "        '''check the length of the selected data'''\n",
    "        dataframe = read_data('testfile2.csv', ['Hour', 'Unitdesc', 'Parking_Spaces', 'Occupancy'])\n",
    "        df = select_street(dataframe, '12TH AVE BETWEEN E CHERRY ST AND E COLUMBIA ST')\n",
    "        self.assertEqual(len(df) , 3)\n",
    "if __name__ == '__main__':\n",
    "    unittest.main()\n",
    "\n",
    "        "
   ]
  }
 ],
 "metadata": {
  "kernelspec": {
   "display_name": "Python 3",
   "language": "python",
   "name": "python3"
  },
  "language_info": {
   "codemirror_mode": {
    "name": "ipython",
    "version": 3
   },
   "file_extension": ".py",
   "mimetype": "text/x-python",
   "name": "python",
   "nbconvert_exporter": "python",
   "pygments_lexer": "ipython3",
   "version": "3.7.0"
  }
 },
 "nbformat": 4,
 "nbformat_minor": 2
}
