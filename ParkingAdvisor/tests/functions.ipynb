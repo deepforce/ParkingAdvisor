{
 "cells": [
  {
   "cell_type": "code",
   "execution_count": 10,
   "metadata": {},
   "outputs": [],
   "source": [
    "import os.path\n",
    "import pandas as pd\n",
    "import numpy as np\n",
    "from datetime import datetime"
   ]
  },
  {
   "cell_type": "code",
   "execution_count": 11,
   "metadata": {},
   "outputs": [],
   "source": [
    "#read data\n",
    "def read_data(filename, col_names):\n",
    "    '''\n",
    "    Inputt: filename: String\n",
    "            col_names: List\n",
    "            given filename (csv) and column names that we want to import\n",
    "    Output: return an original dataframe with the specific columns\n",
    "    '''\n",
    "    if not os.path.exists(filename):\n",
    "        raise NameError(\"No such file exists!\")\n",
    "    df = pd.read_csv(filename)\n",
    "    df = df[col_names]\n",
    "    return df"
   ]
  },
  {
   "cell_type": "code",
   "execution_count": 12,
   "metadata": {},
   "outputs": [],
   "source": [
    "#keep the specific col excluding specific value\n",
    "def data_filter(df, col, values):\n",
    "    '''\n",
    "    Input: df: dataframe\n",
    "           col: String\n",
    "           values: List\n",
    "           given a dataframe, for specific column, we exclude specific values that we dont want include\n",
    "    Output: return a new dataframe, without specific values of one column\n",
    "    '''\n",
    "    for val in values:\n",
    "        df = df[df[col] != val]\n",
    "    return df"
   ]
  },
  {
   "cell_type": "code",
   "execution_count": 13,
   "metadata": {},
   "outputs": [],
   "source": [
    "#select specific street name\n",
    "def select_street(df, street_name):\n",
    "    '''\n",
    "    Input: df: dataframe\n",
    "           street_name: String\n",
    "           given a dataframe, group rows with same street name and hour by averaging other columns\n",
    "    Output: return a dataframe with all the rows with spefic street name and different hour\n",
    "    '''\n",
    "    df = df[df['Unitdesc'] == street_name]\n",
    "    df = df.groupby(['Hour', 'Unitdesc'] ,as_index = False)['Parking_Spaces', 'Occupancy'].mean()\n",
    "    return df"
   ]
  },
  {
   "cell_type": "code",
   "execution_count": 14,
   "metadata": {},
   "outputs": [],
   "source": [
    "#modify the end time of all rates\n",
    "def modify_end_time(df, end_col):\n",
    "    '''\n",
    "    Input: df: dataframe\n",
    "           end_col: List\n",
    "           given a dataframe, for all the columns we specify, add the values by one\n",
    "    Output: Null\n",
    "    '''\n",
    "    for col in  end_col:\n",
    "        df.loc[:, col] = df.loc[:, col] + 1"
   ]
  },
  {
   "cell_type": "code",
   "execution_count": 15,
   "metadata": {},
   "outputs": [],
   "source": [
    "#convert minutes to datetime\n",
    "def convertDayTime(df, cols):\n",
    "    '''\n",
    "    Input: df: dataframe\n",
    "           cols: List\n",
    "           given a dataframe, convert specific columns from minute to datetime, and replace original value with hour\n",
    "    Output: Null\n",
    "    '''\n",
    "    for name in cols:\n",
    "        df.loc[:, name] =  pd.TimedeltaIndex(df.loc[:, name], unit='m')\n",
    "        df.loc[:, name] =  pd.DatetimeIndex(df.loc[:, name]).hour"
   ]
  },
  {
   "cell_type": "code",
   "execution_count": null,
   "metadata": {},
   "outputs": [],
   "source": []
  }
 ],
 "metadata": {
  "kernelspec": {
   "display_name": "Python 3",
   "language": "python",
   "name": "python3"
  },
  "language_info": {
   "codemirror_mode": {
    "name": "ipython",
    "version": 3
   },
   "file_extension": ".py",
   "mimetype": "text/x-python",
   "name": "python",
   "nbconvert_exporter": "python",
   "pygments_lexer": "ipython3",
   "version": "3.7.0"
  }
 },
 "nbformat": 4,
 "nbformat_minor": 2
}
